{
 "cells": [
  {
   "cell_type": "markdown",
   "metadata": {},
   "source": [
    "# Louisville Free Public Library\n",
    "\n",
    "Analysis of Louisville Free Public Library collection inventory.\n",
    "\n",
    "Data Source: [Louisville Metro Open Data](https://data.louisvilleky.gov/datasets/LOJIC::louisville-metro-ky-library-collection-inventory-/about)\n",
    "\n",
    "## LFPL's collection inventory\n",
    "**Definitions:**\n",
    "- **BibNum** The unique identifier of a bibliographic record within our materials database. Materials with the same bibliographic # will generally have the same cataloging metadata, differing only in the barcode number, assigned location and anything else specific to the individual copy.\n",
    "\n",
    "- **Title** The name of the material.\n",
    "\n",
    "- **Author** The writer or creator of the material.\n",
    "\n",
    "- **ISBN** The International Standard Book Number is a numeric commercial book identifier that is intended to be unique. Publishers purchase ISBNs from an affiliate of the International ISBN Agency. An ISBN is assigned to each separate edition and variation of a publication. \n",
    "\n",
    "- **Publication Year** The year that the material was originally published.\n",
    "\n",
    "- **Item Type** Describes the type of material of each item, including Books, Audiobooks, Serials, DVDs, Microforms, Three Dimensional Objects, Kits, and Printed Cartographic Materials. \n",
    "\n",
    "- **Item Collection** Refers to the collection the material belongs to based on common themes, including but not limited to Adult Fiction, Adult Reference, Mystery, Children’s Fiction, etc.  \n",
    "\n",
    "- **Item Location** The library location where the material was assigned at the time the report was run.\n",
    "\n",
    "- **Item Price** The price, in USD, that LFPL purchased the material for. \n",
    "\n",
    "## Data set Exploration"
   ]
  },
  {
   "cell_type": "markdown",
   "metadata": {},
   "source": []
  },
  {
   "cell_type": "code",
   "execution_count": 2,
   "metadata": {},
   "outputs": [
    {
     "data": {
      "text/plain": [
       "Index(['BibNum', 'Title', 'Author', 'ISBN', 'PublicationYear', 'ItemType',\n",
       "       'ItemCollection', 'ItemLocation', 'ItemPrice', 'ReportDate'],\n",
       "      dtype='object')"
      ]
     },
     "execution_count": 2,
     "metadata": {},
     "output_type": "execute_result"
    }
   ],
   "source": [
    "import pandas as pd\n",
    "books_df = pd.read_csv('books.csv.gz')\n",
    "books_df.columns"
   ]
  },
  {
   "cell_type": "code",
   "execution_count": 3,
   "metadata": {},
   "outputs": [
    {
     "data": {
      "text/plain": [
       "(1190176, 10)"
      ]
     },
     "execution_count": 3,
     "metadata": {},
     "output_type": "execute_result"
    }
   ],
   "source": [
    "books_df.shape"
   ]
  },
  {
   "cell_type": "code",
   "execution_count": 4,
   "metadata": {},
   "outputs": [
    {
     "name": "stdout",
     "output_type": "stream",
     "text": [
      "<class 'pandas.core.frame.DataFrame'>\n",
      "RangeIndex: 1190176 entries, 0 to 1190175\n",
      "Data columns (total 10 columns):\n",
      " #   Column           Non-Null Count    Dtype  \n",
      "---  ------           --------------    -----  \n",
      " 0   BibNum           1190176 non-null  int64  \n",
      " 1   Title            1190175 non-null  object \n",
      " 2   Author           1124225 non-null  object \n",
      " 3   ISBN             1153891 non-null  float64\n",
      " 4   PublicationYear  1190176 non-null  int64  \n",
      " 5   ItemType         1190176 non-null  object \n",
      " 6   ItemCollection   1190036 non-null  object \n",
      " 7   ItemLocation     1190176 non-null  object \n",
      " 8   ItemPrice        1190176 non-null  float64\n",
      " 9   ReportDate       1190176 non-null  object \n",
      "dtypes: float64(2), int64(2), object(6)\n",
      "memory usage: 90.8+ MB\n"
     ]
    }
   ],
   "source": [
    "books_df.info()"
   ]
  },
  {
   "cell_type": "code",
   "execution_count": 5,
   "metadata": {},
   "outputs": [
    {
     "data": {
      "text/plain": [
       "Author             65951\n",
       "ISBN               36285\n",
       "ItemCollection       140\n",
       "Title                  1\n",
       "BibNum                 0\n",
       "PublicationYear        0\n",
       "ItemType               0\n",
       "ItemLocation           0\n",
       "ItemPrice              0\n",
       "ReportDate             0\n",
       "dtype: int64"
      ]
     },
     "execution_count": 5,
     "metadata": {},
     "output_type": "execute_result"
    }
   ],
   "source": [
    "books_df.isnull().sum().sort_values(ascending=False)"
   ]
  },
  {
   "cell_type": "code",
   "execution_count": 7,
   "metadata": {
    "scrolled": true
   },
   "outputs": [
    {
     "data": {
      "text/html": [
       "<div>\n",
       "<style scoped>\n",
       "    .dataframe tbody tr th:only-of-type {\n",
       "        vertical-align: middle;\n",
       "    }\n",
       "\n",
       "    .dataframe tbody tr th {\n",
       "        vertical-align: top;\n",
       "    }\n",
       "\n",
       "    .dataframe thead th {\n",
       "        text-align: right;\n",
       "    }\n",
       "</style>\n",
       "<table border=\"1\" class=\"dataframe\">\n",
       "  <thead>\n",
       "    <tr style=\"text-align: right;\">\n",
       "      <th></th>\n",
       "      <th>BibNum</th>\n",
       "      <th>Title</th>\n",
       "      <th>Author</th>\n",
       "      <th>ISBN</th>\n",
       "      <th>PublicationYear</th>\n",
       "      <th>ItemType</th>\n",
       "      <th>ItemCollection</th>\n",
       "      <th>ItemLocation</th>\n",
       "      <th>ItemPrice</th>\n",
       "      <th>ReportDate</th>\n",
       "    </tr>\n",
       "  </thead>\n",
       "  <tbody>\n",
       "    <tr>\n",
       "      <th>0</th>\n",
       "      <td>707409</td>\n",
       "      <td>Jeff Immelt and the new GE way : innovation, t...</td>\n",
       "      <td>Magee, David, 1965-</td>\n",
       "      <td>9.780072e+12</td>\n",
       "      <td>2009</td>\n",
       "      <td>Book</td>\n",
       "      <td>Adult Non-Fiction</td>\n",
       "      <td>Main</td>\n",
       "      <td>25.95</td>\n",
       "      <td>02/01/2023 00:00:00</td>\n",
       "    </tr>\n",
       "    <tr>\n",
       "      <th>1</th>\n",
       "      <td>707411</td>\n",
       "      <td>Robin rescues dinner : 52 weeks of quick-fix m...</td>\n",
       "      <td>Miller, Robin, 1964-</td>\n",
       "      <td>9.780307e+12</td>\n",
       "      <td>2009</td>\n",
       "      <td>Book</td>\n",
       "      <td>Adult Non-Fiction</td>\n",
       "      <td>Southwest</td>\n",
       "      <td>19.99</td>\n",
       "      <td>02/01/2023 00:00:00</td>\n",
       "    </tr>\n",
       "    <tr>\n",
       "      <th>2</th>\n",
       "      <td>707411</td>\n",
       "      <td>Robin rescues dinner : 52 weeks of quick-fix m...</td>\n",
       "      <td>Miller, Robin, 1964-</td>\n",
       "      <td>9.780307e+12</td>\n",
       "      <td>2009</td>\n",
       "      <td>Book</td>\n",
       "      <td>Adult Non-Fiction</td>\n",
       "      <td>Southwest</td>\n",
       "      <td>19.99</td>\n",
       "      <td>02/01/2023 00:00:00</td>\n",
       "    </tr>\n",
       "    <tr>\n",
       "      <th>3</th>\n",
       "      <td>707411</td>\n",
       "      <td>Robin rescues dinner : 52 weeks of quick-fix m...</td>\n",
       "      <td>Miller, Robin, 1964-</td>\n",
       "      <td>9.780307e+12</td>\n",
       "      <td>2009</td>\n",
       "      <td>Book</td>\n",
       "      <td>Adult Non-Fiction</td>\n",
       "      <td>Remote Shelving - Main</td>\n",
       "      <td>19.99</td>\n",
       "      <td>02/01/2023 00:00:00</td>\n",
       "    </tr>\n",
       "    <tr>\n",
       "      <th>4</th>\n",
       "      <td>707411</td>\n",
       "      <td>Robin rescues dinner : 52 weeks of quick-fix m...</td>\n",
       "      <td>Miller, Robin, 1964-</td>\n",
       "      <td>9.780307e+12</td>\n",
       "      <td>2009</td>\n",
       "      <td>Book</td>\n",
       "      <td>Adult Non-Fiction</td>\n",
       "      <td>Remote Shelving - Main</td>\n",
       "      <td>19.99</td>\n",
       "      <td>02/01/2023 00:00:00</td>\n",
       "    </tr>\n",
       "    <tr>\n",
       "      <th>5</th>\n",
       "      <td>707411</td>\n",
       "      <td>Robin rescues dinner : 52 weeks of quick-fix m...</td>\n",
       "      <td>Miller, Robin, 1964-</td>\n",
       "      <td>9.780307e+12</td>\n",
       "      <td>2009</td>\n",
       "      <td>Book</td>\n",
       "      <td>Adult Non-Fiction</td>\n",
       "      <td>Remote Shelving - Main</td>\n",
       "      <td>19.99</td>\n",
       "      <td>02/01/2023 00:00:00</td>\n",
       "    </tr>\n",
       "    <tr>\n",
       "      <th>6</th>\n",
       "      <td>707411</td>\n",
       "      <td>Robin rescues dinner : 52 weeks of quick-fix m...</td>\n",
       "      <td>Miller, Robin, 1964-</td>\n",
       "      <td>9.780307e+12</td>\n",
       "      <td>2009</td>\n",
       "      <td>Book</td>\n",
       "      <td>Adult Non-Fiction</td>\n",
       "      <td>Newburg</td>\n",
       "      <td>19.99</td>\n",
       "      <td>02/01/2023 00:00:00</td>\n",
       "    </tr>\n",
       "    <tr>\n",
       "      <th>7</th>\n",
       "      <td>707411</td>\n",
       "      <td>Robin rescues dinner : 52 weeks of quick-fix m...</td>\n",
       "      <td>Miller, Robin, 1964-</td>\n",
       "      <td>9.780307e+12</td>\n",
       "      <td>2009</td>\n",
       "      <td>Book</td>\n",
       "      <td>Adult Non-Fiction</td>\n",
       "      <td>Remote Shelving - Main</td>\n",
       "      <td>19.99</td>\n",
       "      <td>02/01/2023 00:00:00</td>\n",
       "    </tr>\n",
       "    <tr>\n",
       "      <th>8</th>\n",
       "      <td>707411</td>\n",
       "      <td>Robin rescues dinner : 52 weeks of quick-fix m...</td>\n",
       "      <td>Miller, Robin, 1964-</td>\n",
       "      <td>9.780307e+12</td>\n",
       "      <td>2009</td>\n",
       "      <td>Book</td>\n",
       "      <td>Adult Non-Fiction</td>\n",
       "      <td>South Central</td>\n",
       "      <td>19.99</td>\n",
       "      <td>02/01/2023 00:00:00</td>\n",
       "    </tr>\n",
       "    <tr>\n",
       "      <th>9</th>\n",
       "      <td>707411</td>\n",
       "      <td>Robin rescues dinner : 52 weeks of quick-fix m...</td>\n",
       "      <td>Miller, Robin, 1964-</td>\n",
       "      <td>9.780307e+12</td>\n",
       "      <td>2009</td>\n",
       "      <td>Book</td>\n",
       "      <td>Adult Non-Fiction</td>\n",
       "      <td>Southwest</td>\n",
       "      <td>19.99</td>\n",
       "      <td>02/01/2023 00:00:00</td>\n",
       "    </tr>\n",
       "  </tbody>\n",
       "</table>\n",
       "</div>"
      ],
      "text/plain": [
       "   BibNum                                              Title  \\\n",
       "0  707409  Jeff Immelt and the new GE way : innovation, t...   \n",
       "1  707411  Robin rescues dinner : 52 weeks of quick-fix m...   \n",
       "2  707411  Robin rescues dinner : 52 weeks of quick-fix m...   \n",
       "3  707411  Robin rescues dinner : 52 weeks of quick-fix m...   \n",
       "4  707411  Robin rescues dinner : 52 weeks of quick-fix m...   \n",
       "5  707411  Robin rescues dinner : 52 weeks of quick-fix m...   \n",
       "6  707411  Robin rescues dinner : 52 weeks of quick-fix m...   \n",
       "7  707411  Robin rescues dinner : 52 weeks of quick-fix m...   \n",
       "8  707411  Robin rescues dinner : 52 weeks of quick-fix m...   \n",
       "9  707411  Robin rescues dinner : 52 weeks of quick-fix m...   \n",
       "\n",
       "                 Author          ISBN  PublicationYear ItemType  \\\n",
       "0   Magee, David, 1965-  9.780072e+12             2009     Book   \n",
       "1  Miller, Robin, 1964-  9.780307e+12             2009     Book   \n",
       "2  Miller, Robin, 1964-  9.780307e+12             2009     Book   \n",
       "3  Miller, Robin, 1964-  9.780307e+12             2009     Book   \n",
       "4  Miller, Robin, 1964-  9.780307e+12             2009     Book   \n",
       "5  Miller, Robin, 1964-  9.780307e+12             2009     Book   \n",
       "6  Miller, Robin, 1964-  9.780307e+12             2009     Book   \n",
       "7  Miller, Robin, 1964-  9.780307e+12             2009     Book   \n",
       "8  Miller, Robin, 1964-  9.780307e+12             2009     Book   \n",
       "9  Miller, Robin, 1964-  9.780307e+12             2009     Book   \n",
       "\n",
       "      ItemCollection            ItemLocation  ItemPrice           ReportDate  \n",
       "0  Adult Non-Fiction                    Main      25.95  02/01/2023 00:00:00  \n",
       "1  Adult Non-Fiction               Southwest      19.99  02/01/2023 00:00:00  \n",
       "2  Adult Non-Fiction               Southwest      19.99  02/01/2023 00:00:00  \n",
       "3  Adult Non-Fiction  Remote Shelving - Main      19.99  02/01/2023 00:00:00  \n",
       "4  Adult Non-Fiction  Remote Shelving - Main      19.99  02/01/2023 00:00:00  \n",
       "5  Adult Non-Fiction  Remote Shelving - Main      19.99  02/01/2023 00:00:00  \n",
       "6  Adult Non-Fiction                 Newburg      19.99  02/01/2023 00:00:00  \n",
       "7  Adult Non-Fiction  Remote Shelving - Main      19.99  02/01/2023 00:00:00  \n",
       "8  Adult Non-Fiction           South Central      19.99  02/01/2023 00:00:00  \n",
       "9  Adult Non-Fiction               Southwest      19.99  02/01/2023 00:00:00  "
      ]
     },
     "execution_count": 7,
     "metadata": {},
     "output_type": "execute_result"
    }
   ],
   "source": [
    "books_df.head(10)"
   ]
  },
  {
   "cell_type": "markdown",
   "metadata": {},
   "source": [
    "## Column Analysis"
   ]
  },
  {
   "cell_type": "code",
   "execution_count": 9,
   "metadata": {},
   "outputs": [
    {
     "data": {
      "text/plain": [
       "array(['Adult Non-Fiction', 'Adult Fiction', 'Mystery',\n",
       "       'Older Teen Fiction', 'Younger Teen  Fiction', 'Adult Paperback',\n",
       "       'Science Fiction', \"Children's Fiction\", 'Western',\n",
       "       \"Children's Picture Paperback\", \"Children's Paperback\",\n",
       "       \"Children's Picture Book\", 'International Collection',\n",
       "       'ELL Collection', 'Teen Non-Fiction', \"Children's Non-Fiction\",\n",
       "       'Holiday', 'Natural Resources', 'Kentucky History', 'Oversize',\n",
       "       'Urban Fiction', 'Bestsellers', 'Storytime Collection',\n",
       "       \"Children's Board Book\", \"Children's Easy Reader\",\n",
       "       'Preschool  Picture Book', 'Adult Reference', 'Interlibrary Loan',\n",
       "       nan, 'Adult Paperbacks Tall', \"Children's Easy Reader Paperback\",\n",
       "       'Caldecott/Newbery', 'Laptop', 'Government Documents',\n",
       "       'Large Print', 'Telereference', \"Children's Non-Fiction Paperback\",\n",
       "       'Big Book', \"Children's Reference\", 'Teen Reference',\n",
       "       'College Shop', 'Magazines and Newspaper',\n",
       "       'Younger Teen  Paperback', 'Younger Teen  Audiobook', 'Readalongs',\n",
       "       'Listening Device', 'Adult Audiobook', 'Electronic',\n",
       "       \"Children's Music\", 'Adult DVD', 'Music', 'Book Discussion Kit'],\n",
       "      dtype=object)"
      ]
     },
     "execution_count": 9,
     "metadata": {},
     "output_type": "execute_result"
    }
   ],
   "source": [
    "books_df['ItemCollection'].unique()"
   ]
  },
  {
   "cell_type": "code",
   "execution_count": 11,
   "metadata": {},
   "outputs": [
    {
     "data": {
      "text/plain": [
       "array(['Main', 'Southwest', 'Remote Shelving - Main', 'Newburg',\n",
       "       'South Central', 'St Matthews', 'Fairdale', 'Bon Air',\n",
       "       'Jeffersontown', 'Iroquois', 'Crescent Hill',\n",
       "       'Remote Shelving - Shawnee', 'Northeast', 'Childrens Main Library',\n",
       "       'Shively', 'Highlands - Shelby Park', 'Middletown', 'Portland',\n",
       "       'Western', 'Main Teen', 'Shawnee', 'Childrens Bookmobile',\n",
       "       'Content Management', 'Adult Bookmobile'], dtype=object)"
      ]
     },
     "execution_count": 11,
     "metadata": {},
     "output_type": "execute_result"
    }
   ],
   "source": [
    "books_df['ItemLocation'].unique()"
   ]
  },
  {
   "cell_type": "code",
   "execution_count": 12,
   "metadata": {},
   "outputs": [
    {
     "data": {
      "text/plain": [
       "Remote Shelving - Main       139987\n",
       "Northeast                    124473\n",
       "Southwest                    122113\n",
       "Main                         121439\n",
       "South Central                115837\n",
       "Bon Air                       74730\n",
       "St Matthews                   69531\n",
       "Jeffersontown                 56706\n",
       "Iroquois                      52382\n",
       "Highlands - Shelby Park       45539\n",
       "Crescent Hill                 42837\n",
       "Childrens Main Library        38994\n",
       "Middletown                    33120\n",
       "Shively                       23623\n",
       "Newburg                       23586\n",
       "Fairdale                      23149\n",
       "Shawnee                       22906\n",
       "Western                       21648\n",
       "Portland                      13334\n",
       "Childrens Bookmobile           9129\n",
       "Remote Shelving - Shawnee      9083\n",
       "Main Teen                      6024\n",
       "Content Management                4\n",
       "Adult Bookmobile                  2\n",
       "Name: ItemLocation, dtype: int64"
      ]
     },
     "execution_count": 12,
     "metadata": {},
     "output_type": "execute_result"
    }
   ],
   "source": [
    "books_df['ItemLocation'].value_counts()"
   ]
  },
  {
   "cell_type": "code",
   "execution_count": 20,
   "metadata": {},
   "outputs": [
    {
     "data": {
      "text/plain": [
       "count   1190176.00\n",
       "mean         18.45\n",
       "std          16.00\n",
       "min           0.00\n",
       "25%          10.95\n",
       "50%          15.99\n",
       "75%          24.95\n",
       "max        1077.00\n",
       "Name: ItemPrice, dtype: float64"
      ]
     },
     "execution_count": 20,
     "metadata": {},
     "output_type": "execute_result"
    }
   ],
   "source": [
    "pd.set_option('display.float_format', lambda x:'%.2f' % x)\n",
    "books_df['ItemPrice'].describe()"
   ]
  },
  {
   "cell_type": "code",
   "execution_count": null,
   "metadata": {},
   "outputs": [],
   "source": []
  }
 ],
 "metadata": {
  "kernelspec": {
   "display_name": "Python 3 (ipykernel)",
   "language": "python",
   "name": "python3"
  },
  "language_info": {
   "codemirror_mode": {
    "name": "ipython",
    "version": 3
   },
   "file_extension": ".py",
   "mimetype": "text/x-python",
   "name": "python",
   "nbconvert_exporter": "python",
   "pygments_lexer": "ipython3",
   "version": "3.11.1"
  },
  "vscode": {
   "interpreter": {
    "hash": "c44c8a1366e1d996b394d70aa65c8f31f3241397ab2c3c9fdb67a021ed1f8b86"
   }
  }
 },
 "nbformat": 4,
 "nbformat_minor": 2
}
